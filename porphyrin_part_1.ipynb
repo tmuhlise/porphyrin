{
 "cells": [
  {
   "cell_type": "code",
   "execution_count": 1,
   "id": "8a3f2085-86c0-4318-b07e-d4a5a4276adc",
   "metadata": {},
   "outputs": [],
   "source": [
    "# Custom codes are used for this study."
   ]
  },
  {
   "cell_type": "markdown",
   "id": "fe4492cf",
   "metadata": {},
   "source": [
    "# Import the libraries"
   ]
  },
  {
   "cell_type": "code",
   "execution_count": 2,
   "id": "24b26c0b",
   "metadata": {},
   "outputs": [],
   "source": [
    "import rdkit\n",
    "import pandas as pd\n",
    "import sys\n",
    "import math\n",
    "import collections\n",
    "from math import log\n",
    "from scipy import stats\n",
    "from rdkit import Chem, DataStructs\n",
    "import numpy as np\n",
    "import seaborn as sns #pip install seaborn\n",
    "import matplotlib #pip install matplotlib\n",
    "import matplotlib.pyplot as plt\n",
    "import sklearn #pip install scikit-learn\n",
    "from sklearn.decomposition import PCA\n",
    "from collections import Counter # count freq\n",
    "from operator import itemgetter\n",
    "from rdkit.Chem.Scaffolds import MurckoScaffold\n",
    "from rdkit.Chem.Fingerprints import FingerprintMols\n",
    "from rdkit.Chem import Descriptors\n",
    "from rdkit.Chem import AllChem\n",
    "from rdkit.Chem import Draw\n",
    "from matplotlib_venn import venn2\n",
    "from matplotlib_venn import venn2_unweighted  \n",
    "from matplotlib import gridspec\n",
    "import matplotlib.backend_tools as mpt\n",
    "from matplotlib.offsetbox import OffsetImage,AnnotationBbox,TextArea\n",
    "import matplotlib.backend_tools as mpt\n",
    "import matplotlib.backends\n",
    "from tqdm import tqdm\n",
    "import numpy\n",
    "from scipy.cluster.hierarchy import dendrogram, linkage"
   ]
  },
  {
   "cell_type": "code",
   "execution_count": 3,
   "id": "0cd0ffff",
   "metadata": {},
   "outputs": [],
   "source": [
    "from matplotlib.offsetbox import OffsetImage,AnnotationBbox,TextArea\n",
    "import pylab\n",
    "from pylab import xticks\n",
    "from mpl_toolkits import mplot3d\n",
    "from matplotlib import (\n",
    "    _api, backend_tools as tools, cbook, colors, text,\n",
    "    transforms, widgets, get_backend, is_interactive, rcParams)\n",
    "import matplotlib_tools as mpt\n",
    "import matplotlib.pyplot as plt\n",
    "from matplotlib.lines import Line2D\n",
    "import matplotlib.patches as mpatches\n",
    "# pip install lazypredict-nightly yaparak sorun çozuldu\n",
    "import lazypredict\n",
    "import lazypredict.Supervised\n",
    "from lazypredict.Supervised import LazyClassifier\n",
    "from lazypredict.Supervised import LazyRegressor\n",
    "from sklearn.utils import all_estimators\n",
    "from sklearn.model_selection import train_test_split\n",
    "import glob\n",
    "import random\n",
    "import base64\n",
    "import pandas as pd\n",
    "\n",
    "from PIL import Image\n",
    "from io import BytesIO\n",
    "from IPython.display import HTML"
   ]
  },
  {
   "cell_type": "code",
   "execution_count": 4,
   "id": "0eb9f5c2",
   "metadata": {},
   "outputs": [],
   "source": [
    "from rdkit.Chem import rdDepictor\n",
    "rdDepictor.SetPreferCoordGen(True)"
   ]
  },
  {
   "cell_type": "code",
   "execution_count": 5,
   "id": "b2057bac",
   "metadata": {},
   "outputs": [
    {
     "name": "stdout",
     "output_type": "stream",
     "text": [
      "User Current Version:- 3.12.8 | packaged by Anaconda, Inc. | (main, Dec 11 2024, 16:48:34) [MSC v.1929 64 bit (AMD64)]\n"
     ]
    }
   ],
   "source": [
    "print(\"User Current Version:-\", sys.version)"
   ]
  },
  {
   "cell_type": "markdown",
   "id": "3d9a3b13",
   "metadata": {},
   "source": [
    "# Import Porphyrin Dataset "
   ]
  },
  {
   "cell_type": "code",
   "execution_count": 6,
   "id": "f887006e",
   "metadata": {},
   "outputs": [
    {
     "data": {
      "text/html": [
       "<div>\n",
       "<style scoped>\n",
       "    .dataframe tbody tr th:only-of-type {\n",
       "        vertical-align: middle;\n",
       "    }\n",
       "\n",
       "    .dataframe tbody tr th {\n",
       "        vertical-align: top;\n",
       "    }\n",
       "\n",
       "    .dataframe thead th {\n",
       "        text-align: right;\n",
       "    }\n",
       "</style>\n",
       "<table border=\"1\" class=\"dataframe\">\n",
       "  <thead>\n",
       "    <tr style=\"text-align: right;\">\n",
       "      <th></th>\n",
       "      <th>Molecule ChEMBL ID</th>\n",
       "      <th>Molecule Name</th>\n",
       "      <th>Molecule Max Phase</th>\n",
       "      <th>Molecular Weight</th>\n",
       "      <th>#RO5 Violations</th>\n",
       "      <th>AlogP</th>\n",
       "      <th>Compound Key</th>\n",
       "      <th>Smiles</th>\n",
       "      <th>Standard Type</th>\n",
       "      <th>Standard Relation</th>\n",
       "      <th>...</th>\n",
       "      <th>Target Type</th>\n",
       "      <th>Document ChEMBL ID</th>\n",
       "      <th>Source ID</th>\n",
       "      <th>Source Description</th>\n",
       "      <th>Document Journal</th>\n",
       "      <th>Document Year</th>\n",
       "      <th>Cell ChEMBL ID</th>\n",
       "      <th>Properties</th>\n",
       "      <th>Action Type</th>\n",
       "      <th>Standard Text Value</th>\n",
       "    </tr>\n",
       "  </thead>\n",
       "  <tbody>\n",
       "    <tr>\n",
       "      <th>0</th>\n",
       "      <td>CHEMBL1325592</td>\n",
       "      <td>PROTOPORPHYRIN</td>\n",
       "      <td>-1.00</td>\n",
       "      <td>562.67</td>\n",
       "      <td>2.00</td>\n",
       "      <td>7.50</td>\n",
       "      <td>SID50106857</td>\n",
       "      <td>C=CC1=C(C)c2cc3[nH]c(cc4nc(cc5[nH]c(cc1n2)c(C)...</td>\n",
       "      <td>Potency</td>\n",
       "      <td>'='</td>\n",
       "      <td>...</td>\n",
       "      <td>NaN</td>\n",
       "      <td>NaN</td>\n",
       "      <td>NaN</td>\n",
       "      <td>NaN</td>\n",
       "      <td>NaN</td>\n",
       "      <td>NaN</td>\n",
       "      <td>NaN</td>\n",
       "      <td>NaN</td>\n",
       "      <td>NaN</td>\n",
       "      <td>NaN</td>\n",
       "    </tr>\n",
       "    <tr>\n",
       "      <th>1</th>\n",
       "      <td>CHEMBL441738</td>\n",
       "      <td>AFAMELANOTIDE</td>\n",
       "      <td>4.00</td>\n",
       "      <td>1646.87</td>\n",
       "      <td>NaN</td>\n",
       "      <td>NaN</td>\n",
       "      <td>NDP-MSH</td>\n",
       "      <td>CCCC[C@H](NC(=O)[C@H](CO)NC(=O)[C@H](Cc1ccc(O)...</td>\n",
       "      <td>EC50</td>\n",
       "      <td>'='</td>\n",
       "      <td>...</td>\n",
       "      <td>SINGLE PROTEIN</td>\n",
       "      <td>CHEMBL1136069</td>\n",
       "      <td>1.00</td>\n",
       "      <td>Scientific Literature</td>\n",
       "      <td>Bioorg Med Chem Lett</td>\n",
       "      <td>2003.00</td>\n",
       "      <td>CHEMBL3307715</td>\n",
       "      <td>NaN</td>\n",
       "      <td>NaN</td>\n",
       "      <td>NaN</td>\n",
       "    </tr>\n",
       "    <tr>\n",
       "      <th>2</th>\n",
       "      <td>CHEMBL441738</td>\n",
       "      <td>AFAMELANOTIDE</td>\n",
       "      <td>4.00</td>\n",
       "      <td>1646.87</td>\n",
       "      <td>NaN</td>\n",
       "      <td>NaN</td>\n",
       "      <td>NDP-MSH</td>\n",
       "      <td>CCCC[C@H](NC(=O)[C@H](CO)NC(=O)[C@H](Cc1ccc(O)...</td>\n",
       "      <td>EC50</td>\n",
       "      <td>'='</td>\n",
       "      <td>...</td>\n",
       "      <td>SINGLE PROTEIN</td>\n",
       "      <td>CHEMBL1136069</td>\n",
       "      <td>1.00</td>\n",
       "      <td>Scientific Literature</td>\n",
       "      <td>Bioorg Med Chem Lett</td>\n",
       "      <td>2003.00</td>\n",
       "      <td>CHEMBL3307715</td>\n",
       "      <td>NaN</td>\n",
       "      <td>NaN</td>\n",
       "      <td>NaN</td>\n",
       "    </tr>\n",
       "    <tr>\n",
       "      <th>3</th>\n",
       "      <td>CHEMBL71</td>\n",
       "      <td>CHLORPROMAZINE</td>\n",
       "      <td>4.00</td>\n",
       "      <td>318.87</td>\n",
       "      <td>0.00</td>\n",
       "      <td>4.89</td>\n",
       "      <td>Chlorpromazine</td>\n",
       "      <td>CN(C)CCCN1c2ccccc2Sc2ccc(Cl)cc21</td>\n",
       "      <td>IC50</td>\n",
       "      <td>'='</td>\n",
       "      <td>...</td>\n",
       "      <td>SINGLE PROTEIN</td>\n",
       "      <td>CHEMBL1136167</td>\n",
       "      <td>1.00</td>\n",
       "      <td>Scientific Literature</td>\n",
       "      <td>Bioorg Med Chem Lett</td>\n",
       "      <td>2003.00</td>\n",
       "      <td>NaN</td>\n",
       "      <td>NaN</td>\n",
       "      <td>NaN</td>\n",
       "      <td>NaN</td>\n",
       "    </tr>\n",
       "    <tr>\n",
       "      <th>4</th>\n",
       "      <td>CHEMBL500593</td>\n",
       "      <td>NaN</td>\n",
       "      <td>NaN</td>\n",
       "      <td>622.72</td>\n",
       "      <td>2.00</td>\n",
       "      <td>6.31</td>\n",
       "      <td>6</td>\n",
       "      <td>C=Cc1c(C)c2cc3nc(c4c5[nH]c(cc6nc(cc1[nH]2)C(C)...</td>\n",
       "      <td>ED50</td>\n",
       "      <td>'='</td>\n",
       "      <td>...</td>\n",
       "      <td>CELL-LINE</td>\n",
       "      <td>CHEMBL1155723</td>\n",
       "      <td>1.00</td>\n",
       "      <td>Scientific Literature</td>\n",
       "      <td>J Nat Prod</td>\n",
       "      <td>2001.00</td>\n",
       "      <td>CHEMBL3308035</td>\n",
       "      <td>NaN</td>\n",
       "      <td>NaN</td>\n",
       "      <td>NaN</td>\n",
       "    </tr>\n",
       "  </tbody>\n",
       "</table>\n",
       "<p>5 rows × 47 columns</p>\n",
       "</div>"
      ],
      "text/plain": [
       "  Molecule ChEMBL ID   Molecule Name  Molecule Max Phase  Molecular Weight  \\\n",
       "0      CHEMBL1325592  PROTOPORPHYRIN               -1.00            562.67   \n",
       "1       CHEMBL441738   AFAMELANOTIDE                4.00           1646.87   \n",
       "2       CHEMBL441738   AFAMELANOTIDE                4.00           1646.87   \n",
       "3           CHEMBL71  CHLORPROMAZINE                4.00            318.87   \n",
       "4       CHEMBL500593             NaN                 NaN            622.72   \n",
       "\n",
       "   #RO5 Violations  AlogP    Compound Key  \\\n",
       "0             2.00   7.50     SID50106857   \n",
       "1              NaN    NaN         NDP-MSH   \n",
       "2              NaN    NaN         NDP-MSH   \n",
       "3             0.00   4.89  Chlorpromazine   \n",
       "4             2.00   6.31               6   \n",
       "\n",
       "                                              Smiles Standard Type  \\\n",
       "0  C=CC1=C(C)c2cc3[nH]c(cc4nc(cc5[nH]c(cc1n2)c(C)...       Potency   \n",
       "1  CCCC[C@H](NC(=O)[C@H](CO)NC(=O)[C@H](Cc1ccc(O)...          EC50   \n",
       "2  CCCC[C@H](NC(=O)[C@H](CO)NC(=O)[C@H](Cc1ccc(O)...          EC50   \n",
       "3                   CN(C)CCCN1c2ccccc2Sc2ccc(Cl)cc21          IC50   \n",
       "4  C=Cc1c(C)c2cc3nc(c4c5[nH]c(cc6nc(cc1[nH]2)C(C)...          ED50   \n",
       "\n",
       "  Standard Relation  ...     Target Type Document ChEMBL ID  Source ID  \\\n",
       "0               '='  ...             NaN                NaN        NaN   \n",
       "1               '='  ...  SINGLE PROTEIN      CHEMBL1136069       1.00   \n",
       "2               '='  ...  SINGLE PROTEIN      CHEMBL1136069       1.00   \n",
       "3               '='  ...  SINGLE PROTEIN      CHEMBL1136167       1.00   \n",
       "4               '='  ...       CELL-LINE      CHEMBL1155723       1.00   \n",
       "\n",
       "      Source Description      Document Journal Document Year  Cell ChEMBL ID  \\\n",
       "0                    NaN                   NaN           NaN             NaN   \n",
       "1  Scientific Literature  Bioorg Med Chem Lett       2003.00   CHEMBL3307715   \n",
       "2  Scientific Literature  Bioorg Med Chem Lett       2003.00   CHEMBL3307715   \n",
       "3  Scientific Literature  Bioorg Med Chem Lett       2003.00             NaN   \n",
       "4  Scientific Literature            J Nat Prod       2001.00   CHEMBL3308035   \n",
       "\n",
       "   Properties  Action Type  Standard Text Value  \n",
       "0         NaN          NaN                  NaN  \n",
       "1         NaN          NaN                  NaN  \n",
       "2         NaN          NaN                  NaN  \n",
       "3         NaN          NaN                  NaN  \n",
       "4         NaN          NaN                  NaN  \n",
       "\n",
       "[5 rows x 47 columns]"
      ]
     },
     "execution_count": 6,
     "metadata": {},
     "output_type": "execute_result"
    }
   ],
   "source": [
    "porph = pd.read_csv('porphyrin.csv')\n",
    "porph.head()"
   ]
  },
  {
   "cell_type": "code",
   "execution_count": 7,
   "id": "16159794-0dda-4814-8c0e-496c9368317d",
   "metadata": {},
   "outputs": [
    {
     "data": {
      "text/plain": [
       "'C=CC1=C(C)c2cc3[nH]c(cc4nc(cc5[nH]c(cc1n2)c(C)c5CCC(=O)O)C(CCC(=O)O)=C4C)c(C)c3C=C'"
      ]
     },
     "execution_count": 7,
     "metadata": {},
     "output_type": "execute_result"
    }
   ],
   "source": [
    "porph['Smiles'][0]"
   ]
  },
  {
   "cell_type": "code",
   "execution_count": 162,
   "id": "ebc19650",
   "metadata": {
    "scrolled": true
   },
   "outputs": [],
   "source": [
    "#porph['Assay Description'].unique().tolist()"
   ]
  },
  {
   "cell_type": "code",
   "execution_count": 44,
   "id": "742a48c4",
   "metadata": {},
   "outputs": [
    {
     "data": {
      "text/plain": [
       "12405"
      ]
     },
     "execution_count": 44,
     "metadata": {},
     "output_type": "execute_result"
    }
   ],
   "source": [
    "len(porph) #12405 rows"
   ]
  },
  {
   "cell_type": "code",
   "execution_count": 8,
   "id": "6eb29e6f",
   "metadata": {},
   "outputs": [],
   "source": [
    "# Remove molecules related to porphyria disease found in dataset but not a porphyrin molecule itself!\n",
    "molecule_ids_to_remove = [\n",
    "    'CHEMBL1535', 'CHEMBL1222250', 'CHEMBL550348', 'CHEMBL71',\n",
    "    'CHEMBL1201481', 'CHEMBL4297760', 'CHEMBL4594265', 'CHEMBL5275624', 'CHEMBL441738']\n",
    "\n",
    "# Remove them !\n",
    "porph = porph[~porph['Molecule ChEMBL ID'].isin(molecule_ids_to_remove)]"
   ]
  },
  {
   "cell_type": "code",
   "execution_count": 9,
   "id": "529deff1-3fcf-4340-85d0-57b6a98605f0",
   "metadata": {},
   "outputs": [
    {
     "data": {
      "text/plain": [
       "8084"
      ]
     },
     "execution_count": 9,
     "metadata": {},
     "output_type": "execute_result"
    }
   ],
   "source": [
    "# number of molecules in the initial dataset\n",
    "len(porph)"
   ]
  },
  {
   "cell_type": "code",
   "execution_count": 10,
   "id": "be0924c6",
   "metadata": {},
   "outputs": [],
   "source": [
    "# include only IC50 results\n",
    "porph=porph[ porph['Standard Type'] == \"IC50\"]"
   ]
  },
  {
   "cell_type": "code",
   "execution_count": 11,
   "id": "a9e8aadd",
   "metadata": {},
   "outputs": [
    {
     "data": {
      "text/plain": [
       "778"
      ]
     },
     "execution_count": 11,
     "metadata": {},
     "output_type": "execute_result"
    }
   ],
   "source": [
    "len(porph)"
   ]
  },
  {
   "cell_type": "code",
   "execution_count": 12,
   "id": "7066f89c",
   "metadata": {},
   "outputs": [],
   "source": [
    "# remove replicates\n",
    "porph=porph[~porph.duplicated(['Molecule ChEMBL ID', 'Document ChEMBL ID'], keep='first')]"
   ]
  },
  {
   "cell_type": "code",
   "execution_count": 13,
   "id": "d2b5c9a6",
   "metadata": {},
   "outputs": [
    {
     "data": {
      "text/plain": [
       "342"
      ]
     },
     "execution_count": 13,
     "metadata": {},
     "output_type": "execute_result"
    }
   ],
   "source": [
    "len(porph)"
   ]
  },
  {
   "cell_type": "code",
   "execution_count": 14,
   "id": "dfc4f113",
   "metadata": {},
   "outputs": [],
   "source": [
    "# remove missing values\n",
    "porph=porph.dropna(subset=['Smiles'])"
   ]
  },
  {
   "cell_type": "code",
   "execution_count": 15,
   "id": "199d04cb-1dc6-43fa-9d8a-cff7f2f28944",
   "metadata": {},
   "outputs": [
    {
     "data": {
      "text/plain": [
       "336"
      ]
     },
     "execution_count": 15,
     "metadata": {},
     "output_type": "execute_result"
    }
   ],
   "source": [
    "len(porph)"
   ]
  },
  {
   "cell_type": "code",
   "execution_count": 16,
   "id": "7159da6e",
   "metadata": {},
   "outputs": [
    {
     "data": {
      "text/plain": [
       "array(['IC50'], dtype=object)"
      ]
     },
     "execution_count": 16,
     "metadata": {},
     "output_type": "execute_result"
    }
   ],
   "source": [
    "porph['Standard Type'].unique()"
   ]
  },
  {
   "cell_type": "code",
   "execution_count": 17,
   "id": "fdef05e6",
   "metadata": {},
   "outputs": [
    {
     "data": {
      "text/plain": [
       "array(['nM', 'ug.mL-1', nan], dtype=object)"
      ]
     },
     "execution_count": 17,
     "metadata": {},
     "output_type": "execute_result"
    }
   ],
   "source": [
    "porph['Standard Units'].unique() #only 1 diff types of activity unit values"
   ]
  },
  {
   "cell_type": "code",
   "execution_count": 18,
   "id": "49035880",
   "metadata": {},
   "outputs": [],
   "source": [
    "porph= porph[(porph['Standard Units'] == 'nM') | (porph['Standard Units'].isna())]"
   ]
  },
  {
   "cell_type": "code",
   "execution_count": 19,
   "id": "4156df07",
   "metadata": {},
   "outputs": [
    {
     "data": {
      "text/plain": [
       "317"
      ]
     },
     "execution_count": 19,
     "metadata": {},
     "output_type": "execute_result"
    }
   ],
   "source": [
    "len(porph)"
   ]
  },
  {
   "cell_type": "code",
   "execution_count": 163,
   "id": "f18d70ca-8aee-4433-b6aa-40067ce45627",
   "metadata": {
    "scrolled": true
   },
   "outputs": [],
   "source": [
    "#porph['Assay Description'].unique().tolist()"
   ]
  },
  {
   "cell_type": "code",
   "execution_count": 22,
   "id": "83578dde-9d49-45b3-bd69-ee57eda78e4b",
   "metadata": {},
   "outputs": [
    {
     "data": {
      "text/plain": [
       "['B', 'A', 'F', 'T', nan]"
      ]
     },
     "execution_count": 22,
     "metadata": {},
     "output_type": "execute_result"
    }
   ],
   "source": [
    "# Assay types used...\n",
    "porph['Assay Type'].unique().tolist()"
   ]
  },
  {
   "cell_type": "code",
   "execution_count": 58,
   "id": "c7f38cc3",
   "metadata": {},
   "outputs": [],
   "source": [
    "pd.set_option('display.max_rows', None)  # display all rows\n",
    "pd.set_option('display.max_columns', None)  # display all columns"
   ]
  },
  {
   "cell_type": "code",
   "execution_count": 20,
   "id": "0eb6f844",
   "metadata": {},
   "outputs": [],
   "source": [
    "porph=porph.reset_index()"
   ]
  },
  {
   "cell_type": "code",
   "execution_count": 21,
   "id": "efd92d93",
   "metadata": {},
   "outputs": [
    {
     "data": {
      "text/plain": [
       "317"
      ]
     },
     "execution_count": 21,
     "metadata": {},
     "output_type": "execute_result"
    }
   ],
   "source": [
    "len(porph)"
   ]
  },
  {
   "cell_type": "code",
   "execution_count": 27,
   "id": "e9c944b9",
   "metadata": {
    "scrolled": true
   },
   "outputs": [
    {
     "data": {
      "text/plain": [
       "index                           0\n",
       "Molecule ChEMBL ID              0\n",
       "Molecule Name                 286\n",
       "Molecule Max Phase            306\n",
       "Molecular Weight                0\n",
       "#RO5 Violations                16\n",
       "AlogP                          16\n",
       "Compound Key                    0\n",
       "Smiles                          0\n",
       "Standard Type                   0\n",
       "Standard Relation               5\n",
       "Standard Value                  2\n",
       "Standard Units                  2\n",
       "pChEMBL Value                  51\n",
       "Data Validity Comment         298\n",
       "Comment                       310\n",
       "Uo Units                        2\n",
       "Ligand Efficiency BEI         288\n",
       "Ligand Efficiency LE          292\n",
       "Ligand Efficiency LLE         292\n",
       "Ligand Efficiency SEI         292\n",
       "Potential Duplicate             0\n",
       "Assay ChEMBL ID                 0\n",
       "Assay Description               0\n",
       "Assay Type                      6\n",
       "BAO Format ID                   6\n",
       "BAO Label                       6\n",
       "Assay Organism                 31\n",
       "Assay Tissue ChEMBL ID        317\n",
       "Assay Tissue Name             317\n",
       "Assay Cell Type                73\n",
       "Assay Subcellular Fraction    317\n",
       "Assay Parameters              317\n",
       "Assay Variant Accession       317\n",
       "Assay Variant Mutation        317\n",
       "Target ChEMBL ID                6\n",
       "Target Name                     6\n",
       "Target Organism                48\n",
       "Target Type                     6\n",
       "Document ChEMBL ID              6\n",
       "Source ID                       6\n",
       "Source Description              6\n",
       "Document Journal               10\n",
       "Document Year                   9\n",
       "Cell ChEMBL ID                 96\n",
       "Properties                    248\n",
       "Action Type                   307\n",
       "Standard Text Value           317\n",
       "dtype: int64"
      ]
     },
     "execution_count": 27,
     "metadata": {},
     "output_type": "execute_result"
    }
   ],
   "source": [
    "porph.isnull().sum() #"
   ]
  },
  {
   "cell_type": "code",
   "execution_count": 28,
   "id": "012a91fa",
   "metadata": {},
   "outputs": [
    {
     "data": {
      "text/plain": [
       "0"
      ]
     },
     "execution_count": 28,
     "metadata": {},
     "output_type": "execute_result"
    }
   ],
   "source": [
    "random=Chem.MolFromSmiles(porph['Smiles'].iloc[12])# Visiualize a molecule randomly chosen\n",
    "rdDepictor.Compute2DCoords(random)"
   ]
  },
  {
   "cell_type": "code",
   "execution_count": 29,
   "id": "04b6490e",
   "metadata": {},
   "outputs": [
    {
     "data": {
      "image/png": "[encoded data removed]",
      "text/plain": [
       "<rdkit.Chem.rdchem.Mol at 0x1823285fca0>"
      ]
     },
     "execution_count": 29,
     "metadata": {},
     "output_type": "execute_result"
    }
   ],
   "source": [
    "#visiualize a molecule randomly\n",
    "random"
   ]
  },
  {
   "cell_type": "code",
   "execution_count": 164,
   "id": "93bb4cbb",
   "metadata": {},
   "outputs": [],
   "source": [
    "top_10_research_subject = porph['Assay Description'].value_counts().head(10)\n"
   ]
  },
  {
   "cell_type": "code",
   "execution_count": 45,
   "id": "657fc223",
   "metadata": {},
   "outputs": [
    {
     "name": "stdout",
     "output_type": "stream",
     "text": [
      "                                   Assay Description  Count\n",
      "0        Cytotoxicity against human HCT116 cell line     17\n",
      "1  Phototoxicity against human A549 cells assesse...     11\n",
      "2  Phototoxicity against human ECA109 cells asses...      9\n",
      "3  Photosensitizing activity against human HeLa c...      9\n",
      "4  Cytotoxicity in rat R3230AC cells irradiated with      7\n",
      "5         Dark toxicity in human A549 cells assessed      7\n",
      "6           Dark toxicity in human HepG2 cells after      6\n",
      "7  Phototoxicity against human HaCaT cells assess...      6\n",
      "8  Cytotoxicity against human Bel7402 cells after 48      6\n",
      "9  Antileishmanial activity against promastigote ...      6\n"
     ]
    }
   ],
   "source": [
    "\n",
    "top_10_research_subject = porph['Assay Description'].value_counts().head(10)\n",
    "\n",
    "\n",
    "def limit_words(description):\n",
    "    return ' '.join(description.split()[:7])\n",
    "\n",
    "\n",
    "top_10_table = pd.DataFrame({\n",
    "    'Assay Description': top_10_research_subject.index,\n",
    "    'Count': top_10_research_subject.values\n",
    "})\n",
    "\n",
    "\n",
    "top_10_table['Assay Description'] = top_10_table['Assay Description'].apply(limit_words)\n",
    "\n",
    "\n",
    "print(top_10_table)"
   ]
  },
  {
   "cell_type": "code",
   "execution_count": 46,
   "id": "609a9d53",
   "metadata": {},
   "outputs": [
    {
     "data": {
      "text/plain": [
       "Standard Type\n",
       "IC50    317\n",
       "Name: count, dtype: int64"
      ]
     },
     "execution_count": 46,
     "metadata": {},
     "output_type": "execute_result"
    }
   ],
   "source": [
    "top_3_values = porph['Standard Type'].value_counts().head(3)\n",
    "top_3_values"
   ]
  },
  {
   "cell_type": "markdown",
   "id": "6c269c9c",
   "metadata": {},
   "source": [
    "# Frequency of assays"
   ]
  },
  {
   "cell_type": "code",
   "execution_count": 31,
   "id": "d1c22f29",
   "metadata": {},
   "outputs": [
    {
     "data": {
      "text/plain": [
       "{'CHEMBL65606': 7,\n",
       " 'CHEMBL500576': 6,\n",
       " 'CHEMBL1956500': 5,\n",
       " 'CHEMBL1325592': 5,\n",
       " 'CHEMBL2170855': 4,\n",
       " 'CHEMBL207155': 3,\n",
       " 'CHEMBL353314': 3}"
      ]
     },
     "execution_count": 31,
     "metadata": {},
     "output_type": "execute_result"
    }
   ],
   "source": [
    "# Function of the most frequently worked structure\n",
    "def freq(struc):\n",
    "    col_list =  Counter(list(struc['Molecule ChEMBL ID']))\n",
    "    res = dict(sorted(col_list.items(), key = itemgetter(1), reverse = True)[:7])\n",
    "    return res\n",
    "freq(porph)"
   ]
  },
  {
   "cell_type": "code",
   "execution_count": 32,
   "id": "182b0175",
   "metadata": {},
   "outputs": [
    {
     "data": {
      "image/png": "[encoded data removed]",
      "text/plain": [
       "<Figure size 640x480 with 1 Axes>"
      ]
     },
     "metadata": {},
     "output_type": "display_data"
    }
   ],
   "source": [
    "x=plt.bar(range(len(freq(porph))), list(freq(porph).values()), align='center',color =\"#F8C8DC\")\n",
    "plt.xticks(range(len(freq(porph))), freq(porph).keys()) \n",
    "plt.xticks(rotation=40,fontsize='9',horizontalalignment='right')\n",
    "plt.yticks(fontsize='9')\n",
    "plt.xlabel('ChemBL IDs of Molecules',  color='black',\n",
    "   fontsize='11', horizontalalignment='center')\n",
    "plt.ylabel('Frequency ',  color='black',\n",
    "   fontsize='11', horizontalalignment='center')\n",
    "plt.grid(False);"
   ]
  },
  {
   "cell_type": "code",
   "execution_count": 33,
   "id": "4eab0083-893b-4dec-b545-0388faf9da2e",
   "metadata": {},
   "outputs": [],
   "source": [
    "freq_data = freq(porph)\n",
    "keys = list(freq_data.keys())[:2]\n",
    "smiles_list = list(porph.loc[porph['Molecule ChEMBL ID'].isin(keys), 'Smiles'])\n",
    "\n",
    "# Molekülleri çizme\n",
    "molecules = [Chem.MolFromSmiles(smiles) for smiles in smiles_list]\n",
    "img = Draw.MolsToGridImage(molecules[0:2], molsPerRow=2, subImgSize=(200, 200))"
   ]
  },
  {
   "cell_type": "code",
   "execution_count": 726,
   "id": "0de83fa8-936a-4e52-8fbc-723ae00d2b68",
   "metadata": {},
   "outputs": [
    {
     "data": {
      "image/png": "[encoded data removed]",
      "text/plain": [
       "<IPython.core.display.Image object>"
      ]
     },
     "execution_count": 726,
     "metadata": {},
     "output_type": "execute_result"
    }
   ],
   "source": [
    "img"
   ]
  },
  {
   "cell_type": "markdown",
   "id": "fffd5874-ce50-4d06-95ce-61dc87707502",
   "metadata": {},
   "source": [
    "# Activity"
   ]
  },
  {
   "cell_type": "code",
   "execution_count": null,
   "id": "7b726d90-95f5-49e7-a2e7-438632a0830c",
   "metadata": {},
   "outputs": [],
   "source": [
    "# IC50>10000 nM accepted as non-active"
   ]
  },
  {
   "cell_type": "code",
   "execution_count": 22,
   "id": "ce08ad1b",
   "metadata": {},
   "outputs": [],
   "source": [
    "# assume Standard Value==0 as inactive\n",
    "porph['Standard Value'] = porph['Standard Value'].fillna(10001)\n",
    "porph=porph.dropna(subset=['Standard Value'])"
   ]
  },
  {
   "cell_type": "code",
   "execution_count": 23,
   "id": "ef390dff",
   "metadata": {},
   "outputs": [],
   "source": [
    "# Labelling structures as active or non-active (Deep Learning Approach for Discovery of In Silico Drugs for Combating COVID-19)\n",
    "rating = []\n",
    "for row in porph[\"Standard Value\"]:\n",
    "    if row >= 10000 :    rating.append(\"pIC$_5$$_0$ inactive\") \n",
    "    elif row < 10000:   rating.append(\"pIC$_5$$_0$ active\")\n",
    "    else:  rating.append(\"pIC$_5$$_0$ inactive\")\n"
   ]
  },
  {
   "cell_type": "code",
   "execution_count": 24,
   "id": "07f5e6dd",
   "metadata": {},
   "outputs": [
    {
     "data": {
      "text/html": [
       "<div>\n",
       "<style scoped>\n",
       "    .dataframe tbody tr th:only-of-type {\n",
       "        vertical-align: middle;\n",
       "    }\n",
       "\n",
       "    .dataframe tbody tr th {\n",
       "        vertical-align: top;\n",
       "    }\n",
       "\n",
       "    .dataframe thead th {\n",
       "        text-align: right;\n",
       "    }\n",
       "</style>\n",
       "<table border=\"1\" class=\"dataframe\">\n",
       "  <thead>\n",
       "    <tr style=\"text-align: right;\">\n",
       "      <th></th>\n",
       "      <th>index</th>\n",
       "      <th>Molecule ChEMBL ID</th>\n",
       "      <th>Molecule Name</th>\n",
       "      <th>Molecule Max Phase</th>\n",
       "      <th>Molecular Weight</th>\n",
       "      <th>#RO5 Violations</th>\n",
       "      <th>AlogP</th>\n",
       "      <th>Compound Key</th>\n",
       "      <th>Smiles</th>\n",
       "      <th>Standard Type</th>\n",
       "      <th>...</th>\n",
       "      <th>Document ChEMBL ID</th>\n",
       "      <th>Source ID</th>\n",
       "      <th>Source Description</th>\n",
       "      <th>Document Journal</th>\n",
       "      <th>Document Year</th>\n",
       "      <th>Cell ChEMBL ID</th>\n",
       "      <th>Properties</th>\n",
       "      <th>Action Type</th>\n",
       "      <th>Standard Text Value</th>\n",
       "      <th>activity_status</th>\n",
       "    </tr>\n",
       "  </thead>\n",
       "  <tbody>\n",
       "    <tr>\n",
       "      <th>0</th>\n",
       "      <td>16</td>\n",
       "      <td>CHEMBL268410</td>\n",
       "      <td>NaN</td>\n",
       "      <td>NaN</td>\n",
       "      <td>1279.63</td>\n",
       "      <td>NaN</td>\n",
       "      <td>NaN</td>\n",
       "      <td>7</td>\n",
       "      <td>CC1=C(C(COC(=O)C23C[C@H]4C[C@@H](C2)C[C@@H](C3...</td>\n",
       "      <td>IC50</td>\n",
       "      <td>...</td>\n",
       "      <td>CHEMBL1126254</td>\n",
       "      <td>1.00</td>\n",
       "      <td>Scientific Literature</td>\n",
       "      <td>J Med Chem</td>\n",
       "      <td>1992.00</td>\n",
       "      <td>NaN</td>\n",
       "      <td>NaN</td>\n",
       "      <td>NaN</td>\n",
       "      <td>NaN</td>\n",
       "      <td>pIC$_5$$_0$ active</td>\n",
       "    </tr>\n",
       "    <tr>\n",
       "      <th>1</th>\n",
       "      <td>39</td>\n",
       "      <td>CHEMBL4741802</td>\n",
       "      <td>NaN</td>\n",
       "      <td>NaN</td>\n",
       "      <td>813.95</td>\n",
       "      <td>3.00</td>\n",
       "      <td>7.97</td>\n",
       "      <td>3a</td>\n",
       "      <td>CCCCCCOC(C)c1c(C)c2cc3nc(c(CC(=O)N[C@@H](CC(=O...</td>\n",
       "      <td>IC50</td>\n",
       "      <td>...</td>\n",
       "      <td>CHEMBL4706542</td>\n",
       "      <td>1.00</td>\n",
       "      <td>Scientific Literature</td>\n",
       "      <td>Eur J Med Chem</td>\n",
       "      <td>2020.00</td>\n",
       "      <td>CHEMBL3307651</td>\n",
       "      <td>TIME = 48.0 hr</td>\n",
       "      <td>NaN</td>\n",
       "      <td>NaN</td>\n",
       "      <td>pIC$_5$$_0$ inactive</td>\n",
       "    </tr>\n",
       "    <tr>\n",
       "      <th>2</th>\n",
       "      <td>40</td>\n",
       "      <td>CHEMBL2111186</td>\n",
       "      <td>TALAPORFIN</td>\n",
       "      <td>3.00</td>\n",
       "      <td>711.77</td>\n",
       "      <td>3.00</td>\n",
       "      <td>5.95</td>\n",
       "      <td>Talaporfin</td>\n",
       "      <td>C=Cc1c(C)c2cc3nc(c(CC(=O)N[C@@H](CC(=O)O)C(=O)...</td>\n",
       "      <td>IC50</td>\n",
       "      <td>...</td>\n",
       "      <td>CHEMBL4706542</td>\n",
       "      <td>1.00</td>\n",
       "      <td>Scientific Literature</td>\n",
       "      <td>Eur J Med Chem</td>\n",
       "      <td>2020.00</td>\n",
       "      <td>CHEMBL3307762</td>\n",
       "      <td>TIME = 48.0 hr</td>\n",
       "      <td>NaN</td>\n",
       "      <td>NaN</td>\n",
       "      <td>pIC$_5$$_0$ inactive</td>\n",
       "    </tr>\n",
       "  </tbody>\n",
       "</table>\n",
       "<p>3 rows × 49 columns</p>\n",
       "</div>"
      ],
      "text/plain": [
       "   index Molecule ChEMBL ID Molecule Name  Molecule Max Phase  \\\n",
       "0     16       CHEMBL268410           NaN                 NaN   \n",
       "1     39      CHEMBL4741802           NaN                 NaN   \n",
       "2     40      CHEMBL2111186    TALAPORFIN                3.00   \n",
       "\n",
       "   Molecular Weight  #RO5 Violations  AlogP Compound Key  \\\n",
       "0           1279.63              NaN    NaN            7   \n",
       "1            813.95             3.00   7.97           3a   \n",
       "2            711.77             3.00   5.95   Talaporfin   \n",
       "\n",
       "                                              Smiles Standard Type  ...  \\\n",
       "0  CC1=C(C(COC(=O)C23C[C@H]4C[C@@H](C2)C[C@@H](C3...          IC50  ...   \n",
       "1  CCCCCCOC(C)c1c(C)c2cc3nc(c(CC(=O)N[C@@H](CC(=O...          IC50  ...   \n",
       "2  C=Cc1c(C)c2cc3nc(c(CC(=O)N[C@@H](CC(=O)O)C(=O)...          IC50  ...   \n",
       "\n",
       "  Document ChEMBL ID  Source ID     Source Description  Document Journal  \\\n",
       "0      CHEMBL1126254       1.00  Scientific Literature        J Med Chem   \n",
       "1      CHEMBL4706542       1.00  Scientific Literature    Eur J Med Chem   \n",
       "2      CHEMBL4706542       1.00  Scientific Literature    Eur J Med Chem   \n",
       "\n",
       "  Document Year Cell ChEMBL ID      Properties  Action Type  \\\n",
       "0       1992.00            NaN             NaN          NaN   \n",
       "1       2020.00  CHEMBL3307651  TIME = 48.0 hr          NaN   \n",
       "2       2020.00  CHEMBL3307762  TIME = 48.0 hr          NaN   \n",
       "\n",
       "   Standard Text Value       activity_status  \n",
       "0                  NaN    pIC$_5$$_0$ active  \n",
       "1                  NaN  pIC$_5$$_0$ inactive  \n",
       "2                  NaN  pIC$_5$$_0$ inactive  \n",
       "\n",
       "[3 rows x 49 columns]"
      ]
     },
     "execution_count": 24,
     "metadata": {},
     "output_type": "execute_result"
    }
   ],
   "source": [
    "# Assign active molecules\n",
    "porph['activity_status'] = rating\n",
    "porph[0:3]"
   ]
  },
  {
   "cell_type": "markdown",
   "id": "a8496d14",
   "metadata": {},
   "source": [
    "# pIC50 calculation of Compounds"
   ]
  },
  {
   "cell_type": "code",
   "execution_count": 123,
   "id": "7b1d30c4",
   "metadata": {},
   "outputs": [
    {
     "data": {
      "text/html": [
       "<div>\n",
       "<style scoped>\n",
       "    .dataframe tbody tr th:only-of-type {\n",
       "        vertical-align: middle;\n",
       "    }\n",
       "\n",
       "    .dataframe tbody tr th {\n",
       "        vertical-align: top;\n",
       "    }\n",
       "\n",
       "    .dataframe thead th {\n",
       "        text-align: right;\n",
       "    }\n",
       "</style>\n",
       "<table border=\"1\" class=\"dataframe\">\n",
       "  <thead>\n",
       "    <tr style=\"text-align: right;\">\n",
       "      <th></th>\n",
       "      <th>Molecule ChEMBL ID</th>\n",
       "      <th>Molecule Name</th>\n",
       "      <th>Molecule Max Phase</th>\n",
       "      <th>Molecular Weight</th>\n",
       "      <th>#RO5 Violations</th>\n",
       "      <th>AlogP</th>\n",
       "      <th>Compound Key</th>\n",
       "      <th>Smiles</th>\n",
       "      <th>Standard Type</th>\n",
       "      <th>Standard Relation</th>\n",
       "      <th>...</th>\n",
       "      <th>Document ChEMBL ID</th>\n",
       "      <th>Source ID</th>\n",
       "      <th>Source Description</th>\n",
       "      <th>Document Journal</th>\n",
       "      <th>Document Year</th>\n",
       "      <th>Cell ChEMBL ID</th>\n",
       "      <th>Properties</th>\n",
       "      <th>Action Type</th>\n",
       "      <th>Standard Text Value</th>\n",
       "      <th>pIC$_5$$_0$</th>\n",
       "    </tr>\n",
       "  </thead>\n",
       "  <tbody>\n",
       "    <tr>\n",
       "      <th>0</th>\n",
       "      <td>CHEMBL1325592</td>\n",
       "      <td>PROTOPORPHYRIN</td>\n",
       "      <td>-1.00</td>\n",
       "      <td>562.67</td>\n",
       "      <td>2.00</td>\n",
       "      <td>7.50</td>\n",
       "      <td>SID50106857</td>\n",
       "      <td>C=CC1=C(C)c2cc3[nH]c(cc4nc(cc5[nH]c(cc1n2)c(C)...</td>\n",
       "      <td>Potency</td>\n",
       "      <td>'='</td>\n",
       "      <td>...</td>\n",
       "      <td>NaN</td>\n",
       "      <td>NaN</td>\n",
       "      <td>NaN</td>\n",
       "      <td>NaN</td>\n",
       "      <td>NaN</td>\n",
       "      <td>NaN</td>\n",
       "      <td>NaN</td>\n",
       "      <td>NaN</td>\n",
       "      <td>NaN</td>\n",
       "      <td>5.00</td>\n",
       "    </tr>\n",
       "    <tr>\n",
       "      <th>1</th>\n",
       "      <td>CHEMBL441738</td>\n",
       "      <td>AFAMELANOTIDE</td>\n",
       "      <td>4.00</td>\n",
       "      <td>1646.87</td>\n",
       "      <td>NaN</td>\n",
       "      <td>NaN</td>\n",
       "      <td>NDP-MSH</td>\n",
       "      <td>CCCC[C@H](NC(=O)[C@H](CO)NC(=O)[C@H](Cc1ccc(O)...</td>\n",
       "      <td>EC50</td>\n",
       "      <td>'='</td>\n",
       "      <td>...</td>\n",
       "      <td>CHEMBL1136069</td>\n",
       "      <td>1.00</td>\n",
       "      <td>Scientific Literature</td>\n",
       "      <td>Bioorg Med Chem Lett</td>\n",
       "      <td>2003.00</td>\n",
       "      <td>CHEMBL3307715</td>\n",
       "      <td>NaN</td>\n",
       "      <td>NaN</td>\n",
       "      <td>NaN</td>\n",
       "      <td>7.92</td>\n",
       "    </tr>\n",
       "    <tr>\n",
       "      <th>2</th>\n",
       "      <td>CHEMBL441738</td>\n",
       "      <td>AFAMELANOTIDE</td>\n",
       "      <td>4.00</td>\n",
       "      <td>1646.87</td>\n",
       "      <td>NaN</td>\n",
       "      <td>NaN</td>\n",
       "      <td>NDP-MSH</td>\n",
       "      <td>CCCC[C@H](NC(=O)[C@H](CO)NC(=O)[C@H](Cc1ccc(O)...</td>\n",
       "      <td>EC50</td>\n",
       "      <td>'='</td>\n",
       "      <td>...</td>\n",
       "      <td>CHEMBL1136069</td>\n",
       "      <td>1.00</td>\n",
       "      <td>Scientific Literature</td>\n",
       "      <td>Bioorg Med Chem Lett</td>\n",
       "      <td>2003.00</td>\n",
       "      <td>CHEMBL3307715</td>\n",
       "      <td>NaN</td>\n",
       "      <td>NaN</td>\n",
       "      <td>NaN</td>\n",
       "      <td>7.12</td>\n",
       "    </tr>\n",
       "  </tbody>\n",
       "</table>\n",
       "<p>3 rows × 48 columns</p>\n",
       "</div>"
      ],
      "text/plain": [
       "  Molecule ChEMBL ID   Molecule Name  Molecule Max Phase  Molecular Weight  \\\n",
       "0      CHEMBL1325592  PROTOPORPHYRIN               -1.00            562.67   \n",
       "1       CHEMBL441738   AFAMELANOTIDE                4.00           1646.87   \n",
       "2       CHEMBL441738   AFAMELANOTIDE                4.00           1646.87   \n",
       "\n",
       "   #RO5 Violations  AlogP Compound Key  \\\n",
       "0             2.00   7.50  SID50106857   \n",
       "1              NaN    NaN      NDP-MSH   \n",
       "2              NaN    NaN      NDP-MSH   \n",
       "\n",
       "                                              Smiles Standard Type  \\\n",
       "0  C=CC1=C(C)c2cc3[nH]c(cc4nc(cc5[nH]c(cc1n2)c(C)...       Potency   \n",
       "1  CCCC[C@H](NC(=O)[C@H](CO)NC(=O)[C@H](Cc1ccc(O)...          EC50   \n",
       "2  CCCC[C@H](NC(=O)[C@H](CO)NC(=O)[C@H](Cc1ccc(O)...          EC50   \n",
       "\n",
       "  Standard Relation  ...  Document ChEMBL ID Source ID     Source Description  \\\n",
       "0               '='  ...                 NaN       NaN                    NaN   \n",
       "1               '='  ...       CHEMBL1136069      1.00  Scientific Literature   \n",
       "2               '='  ...       CHEMBL1136069      1.00  Scientific Literature   \n",
       "\n",
       "       Document Journal Document Year Cell ChEMBL ID  Properties  Action Type  \\\n",
       "0                   NaN           NaN            NaN         NaN          NaN   \n",
       "1  Bioorg Med Chem Lett       2003.00  CHEMBL3307715         NaN          NaN   \n",
       "2  Bioorg Med Chem Lett       2003.00  CHEMBL3307715         NaN          NaN   \n",
       "\n",
       "   Standard Text Value  pIC$_5$$_0$  \n",
       "0                  NaN         5.00  \n",
       "1                  NaN         7.92  \n",
       "2                  NaN         7.12  \n",
       "\n",
       "[3 rows x 48 columns]"
      ]
     },
     "execution_count": 123,
     "metadata": {},
     "output_type": "execute_result"
    }
   ],
   "source": [
    "result = []\n",
    "for value in porph['Standard Value']:\n",
    "    if value < 0:\n",
    "        solution_log=0\n",
    "    elif value==0 : \n",
    "        solution_log=0\n",
    "    elif value=='': \n",
    "        solution_log=0\n",
    "    else:\n",
    "        solution_log=round(math.log(value*(10**-9),10)*-1,2)\n",
    "    result.append(solution_log)   \n",
    "    \n",
    "porph[\"pIC$_5$$_0$\"]= result\n",
    "porph[0:3]\n"
   ]
  },
  {
   "cell_type": "code",
   "execution_count": 26,
   "id": "760f873d-b77d-4a66-9872-c3346ee7124c",
   "metadata": {},
   "outputs": [],
   "source": [
    "# pIC50 z-score calculation\n",
    "porph['z_score'] = stats.zscore(porph['pIC$_5$$_0$'])\n",
    "porph_cleaned = porph[(porph['z_score'] < 3) & (porph['z_score'] > -3)]\n",
    "porph_cleaned.reset_index(drop=True, inplace=True)"
   ]
  },
  {
   "cell_type": "code",
   "execution_count": 581,
   "id": "0c2e015d",
   "metadata": {},
   "outputs": [
    {
     "data": {
      "image/png": "[encoded data removed]",
      "text/plain": [
       "<Figure size 640x480 with 1 Axes>"
      ]
     },
     "metadata": {},
     "output_type": "display_data"
    }
   ],
   "source": [
    "sns.scatterplot(x='Molecular Weight',y='pIC$_5$$_0$',hue='activity_status', data=porph,palette=\"RdPu\")\n",
    "sns.color_palette(\"mako\", as_cmap=True)\n",
    "plt.grid(False);"
   ]
  },
  {
   "cell_type": "code",
   "execution_count": 582,
   "id": "fa989041-afc4-499a-afcf-bac786656e34",
   "metadata": {},
   "outputs": [
    {
     "data": {
      "image/png": "[encoded data removed]",
      "text/plain": [
       "<Figure size 600x600 with 3 Axes>"
      ]
     },
     "metadata": {},
     "output_type": "display_data"
    }
   ],
   "source": [
    "sns.jointplot(\n",
    "    x='Molecular Weight', \n",
    "    y='pIC$_5$$_0$', \n",
    "    hue='activity_status', \n",
    "    data=porph, \n",
    "    palette=\"crest\", \n",
    "    kind=\"kde\", \n",
    "    fill=True\n",
    "    \n",
    ");"
   ]
  },
  {
   "cell_type": "code",
   "execution_count": 67,
   "id": "675f87dd",
   "metadata": {},
   "outputs": [
    {
     "data": {
      "text/plain": [
       "''"
      ]
     },
     "execution_count": 67,
     "metadata": {},
     "output_type": "execute_result"
    },
    {
     "data": {
      "image/png": "[encoded data removed]",
      "text/plain": [
       "<Figure size 300x400 with 1 Axes>"
      ]
     },
     "metadata": {},
     "output_type": "display_data"
    }
   ],
   "source": [
    "plt.figure(figsize=(3,4))\n",
    "sns.countplot(x='activity_status', data=porph, palette=\"RdPu\", edgecolor='grey')\n",
    "plt.xlabel('Bioactivity Type', fontsize=11)\n",
    "plt.ylabel('Frequency', fontsize=11)\n",
    "plt.grid(False)\n",
    "plt.savefig('ratio_active.png', dpi=600)\n",
    ";"
   ]
  },
  {
   "cell_type": "code",
   "execution_count": 104,
   "id": "0ec9aba4-9e41-42d5-8ebe-7cd89bf1fbd9",
   "metadata": {},
   "outputs": [
    {
     "name": "stdout",
     "output_type": "stream",
     "text": [
      "Percentage of 'activity' == 1: 66.56%\n"
     ]
    }
   ],
   "source": [
    "percentage = (porph['activity'] == \"1\").mean() * 100\n",
    "print(f\"Percentage of 'activity' == 1: {percentage:.2f}%\")\n"
   ]
  },
  {
   "cell_type": "code",
   "execution_count": 105,
   "id": "bb0e6883-c45b-442c-bb84-10ca555845ed",
   "metadata": {},
   "outputs": [
    {
     "name": "stdout",
     "output_type": "stream",
     "text": [
      "Count of 'activity' == '1': 211\n"
     ]
    }
   ],
   "source": [
    "count = porph['activity'].eq(\"1\").sum()\n",
    "print(f\"Count of 'activity' == '1': {count}\")"
   ]
  },
  {
   "cell_type": "code",
   "execution_count": 487,
   "id": "7a46c4ee-797e-4d2b-9f31-790707ff6936",
   "metadata": {},
   "outputs": [
    {
     "name": "stdout",
     "output_type": "stream",
     "text": [
      "Percentage of 'activity' == 1: 66.56%\n"
     ]
    }
   ],
   "source": [
    "percentage = (porph['activity_status'] == \"pIC$_5$$_0$ active\").mean() * 100\n",
    "print(f\"Percentage of 'activity' == 1: {percentage:.2f}%\") "
   ]
  },
  {
   "cell_type": "code",
   "execution_count": 492,
   "id": "1bc04534-42e7-421e-b63b-850094316325",
   "metadata": {},
   "outputs": [
    {
     "name": "stdout",
     "output_type": "stream",
     "text": [
      "Percentage of 'activity' == 1: 33.44%\n"
     ]
    }
   ],
   "source": [
    "percentage = (porph['activity_status'] == \"pIC$_5$$_0$ inactive\").mean() * 100\n",
    "print(f\"Percentage of 'activity' == 1: {percentage:.2f}%\") "
   ]
  },
  {
   "cell_type": "code",
   "execution_count": 495,
   "id": "5dc53c91-8037-4982-a965-1d0350a2a3e2",
   "metadata": {},
   "outputs": [
    {
     "name": "stdout",
     "output_type": "stream",
     "text": [
      "Count of 'activity' == 'pIC$_5$$_0$ inactive': 106\n"
     ]
    }
   ],
   "source": [
    "count_ = porph['activity_status'].eq(\"pIC$_5$$_0$ inactive\").sum()\n",
    "print(f\"Count of 'activity' == 'pIC$_5$$_0$ inactive': {count_}\")"
   ]
  },
  {
   "cell_type": "code",
   "execution_count": 27,
   "id": "01f3a4a3",
   "metadata": {},
   "outputs": [
    {
     "data": {
      "image/png": "[encoded data removed]",
      "text/plain": [
       "<Figure size 350x550 with 1 Axes>"
      ]
     },
     "metadata": {},
     "output_type": "display_data"
    }
   ],
   "source": [
    "plt.figure(figsize=(3.5, 5.5))\n",
    "sns.boxplot(x = 'activity_status', y = 'pIC$_5$$_0$', data = porph, color=\"#1f6357\")\n",
    "plt.xlabel('Bioactivity class', fontsize=14)\n",
    "plt.ylabel(\"$pIC_{50} value$\", fontsize=12, fontweight='bold');"
   ]
  },
  {
   "cell_type": "markdown",
   "id": "2b4cf3ae",
   "metadata": {},
   "source": [
    "# Lipinski Rule of Five"
   ]
  },
  {
   "cell_type": "code",
   "execution_count": 27,
   "id": "f50cc98e",
   "metadata": {},
   "outputs": [],
   "source": [
    "def calculate_ro5_properties(smiles):\n",
    "    \"\"\"\n",
    "    Test if input molecule (SMILES) fulfills Lipinski's rule of five.\n",
    "\n",
    "    Parameters\n",
    "    ----------\n",
    "    smiles : str\n",
    "        SMILES for a molecule.\n",
    "\n",
    "    Returns\n",
    "    -------\n",
    "    pandas.Series\n",
    "        Molecular weight, number of hydrogen bond acceptors/donor and logP value\n",
    "        and Lipinski's rule of five compliance for input molecule.\n",
    "    \"\"\"\n",
    "    # RDKit molecule from SMILES\n",
    "    molecule = Chem.MolFromSmiles(smiles)\n",
    "    # Calculate Ro5-relevant chemical properties\n",
    "    molecular_weight = Descriptors.ExactMolWt(molecule)\n",
    "    n_hba = Descriptors.NumHAcceptors(molecule)\n",
    "    n_hbd = Descriptors.NumHDonors(molecule)\n",
    "    logp = Descriptors.MolLogP(molecule)\n",
    "    # Check if Ro5 conditions fulfilled\n",
    "    conditions = [molecular_weight <= 500, n_hba <= 10, n_hbd <= 5, logp <= 5]\n",
    "    ro5_fulfilled = sum(conditions) >= 3\n",
    "    # Return True if no more than one out of four conditions is violated\n",
    "    return pd.Series(\n",
    "        [molecular_weight, n_hba, n_hbd, logp, ro5_fulfilled],\n",
    "        index=[\"molecular_weight\", \"n_hba\", \"n_hbd\", \"logp\", \"ro5_fulfilled\"],\n",
    "    )"
   ]
  }
 ],
 "metadata": {},
 "nbformat": 4,
 "nbformat_minor": 5
}
